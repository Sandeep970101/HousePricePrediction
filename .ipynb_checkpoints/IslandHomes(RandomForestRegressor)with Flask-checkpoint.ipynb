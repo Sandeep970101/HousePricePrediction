{
 "cells": [
  {
   "cell_type": "code",
   "execution_count": null,
   "id": "48dbe816",
   "metadata": {},
   "outputs": [
    {
     "name": "stdout",
     "output_type": "stream",
     "text": [
      "Mean Absolute Error: 9032359.906048952\n",
      "Mean Squared Error: 1532914876900784.2\n",
      "R-squared: 0.5706773596406127\n",
      " * Serving Flask app '__main__'\n",
      " * Debug mode: off\n"
     ]
    },
    {
     "name": "stderr",
     "output_type": "stream",
     "text": [
      "WARNING: This is a development server. Do not use it in a production deployment. Use a production WSGI server instead.\n",
      " * Running on http://127.0.0.1:8000\n",
      "Press CTRL+C to quit\n",
      "127.0.0.1 - - [10/May/2024 19:09:26] \"POST /predict_price HTTP/1.1\" 200 -\n",
      "127.0.0.1 - - [10/May/2024 19:09:55] \"POST /predict_price HTTP/1.1\" 200 -\n",
      "127.0.0.1 - - [10/May/2024 19:10:01] \"POST /predict_price HTTP/1.1\" 200 -\n",
      "127.0.0.1 - - [10/May/2024 19:10:11] \"POST /predict_price HTTP/1.1\" 200 -\n",
      "127.0.0.1 - - [10/May/2024 19:10:46] \"POST /predict_price HTTP/1.1\" 200 -\n"
     ]
    }
   ],
   "source": [
    "from flask import Flask, request, jsonify\n",
    "import pandas as pd\n",
    "from sklearn.ensemble import RandomForestRegressor\n",
    "from sklearn.model_selection import train_test_split\n",
    "import matplotlib.pyplot as plt\n",
    "import seaborn as sns\n",
    "import locale\n",
    "\n",
    "locale.setlocale(locale.LC_ALL, '')\n",
    "\n",
    "# Load and preprocess the data\n",
    "train = pd.read_csv('train_1.csv').ffill().drop(\"Id\", axis=1)\n",
    "test = pd.read_csv('test_1.csv').ffill().drop(\"Id\", axis=1)\n",
    "\n",
    "# Extract input features and target variable\n",
    "X = train[['Land_size', 'House_size', 'Baths', 'Beds']]\n",
    "y = train['Sales_Price']\n",
    "\n",
    "# Split the data into training and testing sets\n",
    "X_train, X_test, y_train, y_test = train_test_split(X, y, test_size=0.2, random_state=42)\n",
    "\n",
    "# Train the model (Random Forest Regressor)\n",
    "model = RandomForestRegressor(n_estimators=100, random_state=42)\n",
    "model.fit(X_train, y_train)\n",
    "\n",
    "# Create a correlation matrix\n",
    "correlation_matrix = X_train.corr()\n",
    "\n",
    "from sklearn.metrics import mean_absolute_error, mean_squared_error, r2_score\n",
    "\n",
    "# Make predictions on the test set\n",
    "y_pred = model.predict(X_test)\n",
    "\n",
    "# Calculate MAE, MSE, and R2 score\n",
    "mae = mean_absolute_error(y_test, y_pred)\n",
    "mse = mean_squared_error(y_test, y_pred)\n",
    "r2 = r2_score(y_test, y_pred)\n",
    "\n",
    "# Print the performance metrics\n",
    "print(\"Mean Absolute Error:\", mae)\n",
    "print(\"Mean Squared Error:\", mse)\n",
    "print(\"R-squared:\", r2)\n",
    "\n",
    "\n",
    "# Flask app setup\n",
    "app = Flask(__name__)\n",
    "\n",
    "@app.route('/predict_price', methods=['POST'])\n",
    "def predict_price():\n",
    "    data = request.get_json()\n",
    "    \n",
    "    # Convert input data to DataFrame\n",
    "    input_df = pd.DataFrame(data, index=[0])\n",
    "    \n",
    "    # Ensure correct feature order and filter the DataFrame to include only the required features\n",
    "    input_features = ['Land_size', 'House_size', 'Baths', 'Beds']\n",
    "    input_df = input_df[input_features]\n",
    "    \n",
    "    # Make predictions\n",
    "    predicted_price = model.predict(input_df)\n",
    "    \n",
    "    # Round the predicted price to remove decimals\n",
    "    predicted_price = round(predicted_price[0])\n",
    "    \n",
    "    # Format the predicted price as currency\n",
    "    predicted_price_formatted = \"Rs.{:,.2f}\".format(predicted_price)\n",
    "    \n",
    "    # Return predicted price as JSON response\n",
    "    return jsonify({'predicted price': predicted_price_formatted})\n",
    "\n",
    "if __name__ == '__main__':\n",
    "    app.run(host='127.0.0.1', port=8000)\n"
   ]
  },
  {
   "cell_type": "code",
   "execution_count": null,
   "id": "27aca7a0",
   "metadata": {},
   "outputs": [],
   "source": []
  }
 ],
 "metadata": {
  "kernelspec": {
   "display_name": "Python 3 (ipykernel)",
   "language": "python",
   "name": "python3"
  },
  "language_info": {
   "codemirror_mode": {
    "name": "ipython",
    "version": 3
   },
   "file_extension": ".py",
   "mimetype": "text/x-python",
   "name": "python",
   "nbconvert_exporter": "python",
   "pygments_lexer": "ipython3",
   "version": "3.11.4"
  }
 },
 "nbformat": 4,
 "nbformat_minor": 5
}
